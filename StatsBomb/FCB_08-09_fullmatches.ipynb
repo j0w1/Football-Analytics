{
 "cells": [
  {
   "cell_type": "markdown",
   "id": "17598ae4",
   "metadata": {},
   "source": [
    "# Import"
   ]
  },
  {
   "cell_type": "code",
   "execution_count": 1,
   "id": "a69a7070",
   "metadata": {
    "ExecuteTime": {
     "end_time": "2023-08-15T10:31:08.062731Z",
     "start_time": "2023-08-15T10:31:07.487916Z"
    }
   },
   "outputs": [],
   "source": [
    "import warnings\n",
    "warnings.filterwarnings('ignore')\n",
    "import pandas as pd "
   ]
  },
  {
   "cell_type": "code",
   "execution_count": 2,
   "id": "f0ce3b50",
   "metadata": {
    "ExecuteTime": {
     "end_time": "2023-08-15T10:31:08.667457Z",
     "start_time": "2023-08-15T10:31:08.653300Z"
    }
   },
   "outputs": [
    {
     "data": {
      "text/plain": [
       "['Pool',\n",
       " 'Union',\n",
       " '_360_frames',\n",
       " 'competition_events',\n",
       " 'competition_frames',\n",
       " 'competitions',\n",
       " 'events',\n",
       " 'filter_and_group_events',\n",
       " 'frames',\n",
       " 'lineups',\n",
       " 'matches',\n",
       " 'merge_events_and_frames',\n",
       " 'partial',\n",
       " 'player_match_stats',\n",
       " 'player_season_stats',\n",
       " 'reduce_events',\n",
       " 'team_season_stats']"
      ]
     },
     "execution_count": 2,
     "metadata": {},
     "output_type": "execute_result"
    }
   ],
   "source": [
    "# import library and get the list of available functions.\n",
    "from statsbombpy import sb\n",
    "\n",
    "functions = [func for func in dir(sb) if callable(getattr(sb, func))]\n",
    "functions"
   ]
  },
  {
   "cell_type": "markdown",
   "id": "ce7d22c5",
   "metadata": {},
   "source": [
    "## Competitions:"
   ]
  },
  {
   "cell_type": "code",
   "execution_count": 3,
   "id": "d89c9893",
   "metadata": {
    "ExecuteTime": {
     "end_time": "2023-08-15T10:31:11.419040Z",
     "start_time": "2023-08-15T10:31:11.035120Z"
    }
   },
   "outputs": [
    {
     "data": {
      "text/html": [
       "<div>\n",
       "<style scoped>\n",
       "    .dataframe tbody tr th:only-of-type {\n",
       "        vertical-align: middle;\n",
       "    }\n",
       "\n",
       "    .dataframe tbody tr th {\n",
       "        vertical-align: top;\n",
       "    }\n",
       "\n",
       "    .dataframe thead th {\n",
       "        text-align: right;\n",
       "    }\n",
       "</style>\n",
       "<table border=\"1\" class=\"dataframe\">\n",
       "  <thead>\n",
       "    <tr style=\"text-align: right;\">\n",
       "      <th></th>\n",
       "      <th>competition_id</th>\n",
       "      <th>season_id</th>\n",
       "      <th>country_name</th>\n",
       "      <th>competition_name</th>\n",
       "      <th>competition_gender</th>\n",
       "      <th>competition_youth</th>\n",
       "      <th>competition_international</th>\n",
       "      <th>season_name</th>\n",
       "      <th>match_updated</th>\n",
       "      <th>match_updated_360</th>\n",
       "      <th>match_available_360</th>\n",
       "      <th>match_available</th>\n",
       "    </tr>\n",
       "  </thead>\n",
       "  <tbody>\n",
       "    <tr>\n",
       "      <th>33</th>\n",
       "      <td>43</td>\n",
       "      <td>269</td>\n",
       "      <td>International</td>\n",
       "      <td>FIFA World Cup</td>\n",
       "      <td>male</td>\n",
       "      <td>False</td>\n",
       "      <td>True</td>\n",
       "      <td>1958</td>\n",
       "      <td>2023-06-26T10:33:08.214831</td>\n",
       "      <td>None</td>\n",
       "      <td>None</td>\n",
       "      <td>2023-06-26T10:33:08.214831</td>\n",
       "    </tr>\n",
       "    <tr>\n",
       "      <th>32</th>\n",
       "      <td>43</td>\n",
       "      <td>270</td>\n",
       "      <td>International</td>\n",
       "      <td>FIFA World Cup</td>\n",
       "      <td>male</td>\n",
       "      <td>False</td>\n",
       "      <td>True</td>\n",
       "      <td>1962</td>\n",
       "      <td>2023-06-26T10:38:00.323984</td>\n",
       "      <td>None</td>\n",
       "      <td>None</td>\n",
       "      <td>2023-06-26T10:38:00.323984</td>\n",
       "    </tr>\n",
       "    <tr>\n",
       "      <th>31</th>\n",
       "      <td>43</td>\n",
       "      <td>272</td>\n",
       "      <td>International</td>\n",
       "      <td>FIFA World Cup</td>\n",
       "      <td>male</td>\n",
       "      <td>False</td>\n",
       "      <td>True</td>\n",
       "      <td>1970</td>\n",
       "      <td>2023-07-17T23:24:45.579886</td>\n",
       "      <td>None</td>\n",
       "      <td>None</td>\n",
       "      <td>2023-07-17T23:24:45.579886</td>\n",
       "    </tr>\n",
       "    <tr>\n",
       "      <th>18</th>\n",
       "      <td>16</td>\n",
       "      <td>276</td>\n",
       "      <td>Europe</td>\n",
       "      <td>Champions League</td>\n",
       "      <td>male</td>\n",
       "      <td>False</td>\n",
       "      <td>False</td>\n",
       "      <td>1970/1971</td>\n",
       "      <td>2023-07-06T12:50:01.961048</td>\n",
       "      <td>None</td>\n",
       "      <td>None</td>\n",
       "      <td>2023-07-06T12:50:01.961048</td>\n",
       "    </tr>\n",
       "    <tr>\n",
       "      <th>17</th>\n",
       "      <td>16</td>\n",
       "      <td>71</td>\n",
       "      <td>Europe</td>\n",
       "      <td>Champions League</td>\n",
       "      <td>male</td>\n",
       "      <td>False</td>\n",
       "      <td>False</td>\n",
       "      <td>1971/1972</td>\n",
       "      <td>2020-07-29T05:00</td>\n",
       "      <td>2021-06-13T16:17:31.694</td>\n",
       "      <td>None</td>\n",
       "      <td>2020-07-29T05:00</td>\n",
       "    </tr>\n",
       "    <tr>\n",
       "      <th>...</th>\n",
       "      <td>...</td>\n",
       "      <td>...</td>\n",
       "      <td>...</td>\n",
       "      <td>...</td>\n",
       "      <td>...</td>\n",
       "      <td>...</td>\n",
       "      <td>...</td>\n",
       "      <td>...</td>\n",
       "      <td>...</td>\n",
       "      <td>...</td>\n",
       "      <td>...</td>\n",
       "      <td>...</td>\n",
       "    </tr>\n",
       "    <tr>\n",
       "      <th>22</th>\n",
       "      <td>37</td>\n",
       "      <td>90</td>\n",
       "      <td>England</td>\n",
       "      <td>FA Women's Super League</td>\n",
       "      <td>female</td>\n",
       "      <td>False</td>\n",
       "      <td>False</td>\n",
       "      <td>2020/2021</td>\n",
       "      <td>2023-02-25T14:52:09.326729</td>\n",
       "      <td>2021-06-13T16:17:31.694</td>\n",
       "      <td>None</td>\n",
       "      <td>2023-02-25T14:52:09.326729</td>\n",
       "    </tr>\n",
       "    <tr>\n",
       "      <th>35</th>\n",
       "      <td>11</td>\n",
       "      <td>90</td>\n",
       "      <td>Spain</td>\n",
       "      <td>La Liga</td>\n",
       "      <td>male</td>\n",
       "      <td>False</td>\n",
       "      <td>False</td>\n",
       "      <td>2020/2021</td>\n",
       "      <td>2023-07-26T14:11:01.312143</td>\n",
       "      <td>2023-07-26T14:15:15.217027</td>\n",
       "      <td>2023-07-26T14:15:15.217027</td>\n",
       "      <td>2023-07-26T14:11:01.312143</td>\n",
       "    </tr>\n",
       "    <tr>\n",
       "      <th>34</th>\n",
       "      <td>1238</td>\n",
       "      <td>108</td>\n",
       "      <td>India</td>\n",
       "      <td>Indian Super league</td>\n",
       "      <td>male</td>\n",
       "      <td>False</td>\n",
       "      <td>False</td>\n",
       "      <td>2021/2022</td>\n",
       "      <td>2023-03-31T02:14:09.896947</td>\n",
       "      <td>None</td>\n",
       "      <td>None</td>\n",
       "      <td>2023-03-31T02:14:09.896947</td>\n",
       "    </tr>\n",
       "    <tr>\n",
       "      <th>64</th>\n",
       "      <td>53</td>\n",
       "      <td>106</td>\n",
       "      <td>Europe</td>\n",
       "      <td>UEFA Women's Euro</td>\n",
       "      <td>female</td>\n",
       "      <td>False</td>\n",
       "      <td>True</td>\n",
       "      <td>2022</td>\n",
       "      <td>2023-07-17T21:19:03.032991</td>\n",
       "      <td>2023-07-17T21:21:56.497106</td>\n",
       "      <td>2023-07-17T21:21:56.497106</td>\n",
       "      <td>2023-07-17T21:19:03.032991</td>\n",
       "    </tr>\n",
       "    <tr>\n",
       "      <th>26</th>\n",
       "      <td>43</td>\n",
       "      <td>106</td>\n",
       "      <td>International</td>\n",
       "      <td>FIFA World Cup</td>\n",
       "      <td>male</td>\n",
       "      <td>False</td>\n",
       "      <td>True</td>\n",
       "      <td>2022</td>\n",
       "      <td>2023-08-03T07:22:32.358478</td>\n",
       "      <td>2023-08-03T07:25:02.572748</td>\n",
       "      <td>2023-08-03T07:25:02.572748</td>\n",
       "      <td>2023-08-03T07:22:32.358478</td>\n",
       "    </tr>\n",
       "  </tbody>\n",
       "</table>\n",
       "<p>66 rows × 12 columns</p>\n",
       "</div>"
      ],
      "text/plain": [
       "    competition_id  season_id   country_name         competition_name  \\\n",
       "33              43        269  International           FIFA World Cup   \n",
       "32              43        270  International           FIFA World Cup   \n",
       "31              43        272  International           FIFA World Cup   \n",
       "18              16        276         Europe         Champions League   \n",
       "17              16         71         Europe         Champions League   \n",
       "..             ...        ...            ...                      ...   \n",
       "22              37         90        England  FA Women's Super League   \n",
       "35              11         90          Spain                  La Liga   \n",
       "34            1238        108          India      Indian Super league   \n",
       "64              53        106         Europe        UEFA Women's Euro   \n",
       "26              43        106  International           FIFA World Cup   \n",
       "\n",
       "   competition_gender  competition_youth  competition_international  \\\n",
       "33               male              False                       True   \n",
       "32               male              False                       True   \n",
       "31               male              False                       True   \n",
       "18               male              False                      False   \n",
       "17               male              False                      False   \n",
       "..                ...                ...                        ...   \n",
       "22             female              False                      False   \n",
       "35               male              False                      False   \n",
       "34               male              False                      False   \n",
       "64             female              False                       True   \n",
       "26               male              False                       True   \n",
       "\n",
       "   season_name               match_updated           match_updated_360  \\\n",
       "33        1958  2023-06-26T10:33:08.214831                        None   \n",
       "32        1962  2023-06-26T10:38:00.323984                        None   \n",
       "31        1970  2023-07-17T23:24:45.579886                        None   \n",
       "18   1970/1971  2023-07-06T12:50:01.961048                        None   \n",
       "17   1971/1972            2020-07-29T05:00     2021-06-13T16:17:31.694   \n",
       "..         ...                         ...                         ...   \n",
       "22   2020/2021  2023-02-25T14:52:09.326729     2021-06-13T16:17:31.694   \n",
       "35   2020/2021  2023-07-26T14:11:01.312143  2023-07-26T14:15:15.217027   \n",
       "34   2021/2022  2023-03-31T02:14:09.896947                        None   \n",
       "64        2022  2023-07-17T21:19:03.032991  2023-07-17T21:21:56.497106   \n",
       "26        2022  2023-08-03T07:22:32.358478  2023-08-03T07:25:02.572748   \n",
       "\n",
       "           match_available_360             match_available  \n",
       "33                        None  2023-06-26T10:33:08.214831  \n",
       "32                        None  2023-06-26T10:38:00.323984  \n",
       "31                        None  2023-07-17T23:24:45.579886  \n",
       "18                        None  2023-07-06T12:50:01.961048  \n",
       "17                        None            2020-07-29T05:00  \n",
       "..                         ...                         ...  \n",
       "22                        None  2023-02-25T14:52:09.326729  \n",
       "35  2023-07-26T14:15:15.217027  2023-07-26T14:11:01.312143  \n",
       "34                        None  2023-03-31T02:14:09.896947  \n",
       "64  2023-07-17T21:21:56.497106  2023-07-17T21:19:03.032991  \n",
       "26  2023-08-03T07:25:02.572748  2023-08-03T07:22:32.358478  \n",
       "\n",
       "[66 rows x 12 columns]"
      ]
     },
     "execution_count": 3,
     "metadata": {},
     "output_type": "execute_result"
    }
   ],
   "source": [
    "#Take a look over all competitions provided\n",
    "sb.competitions().sort_values(by='season_name')"
   ]
  },
  {
   "cell_type": "markdown",
   "id": "e79ad38f",
   "metadata": {},
   "source": [
    "## Matches:\n",
    "\n",
    "Once you have selected the league and the season to download, you create a variable where you store the matches."
   ]
  },
  {
   "cell_type": "code",
   "execution_count": 4,
   "id": "d49ee103",
   "metadata": {
    "ExecuteTime": {
     "end_time": "2023-08-15T10:31:16.174806Z",
     "start_time": "2023-08-15T10:31:15.826399Z"
    }
   },
   "outputs": [],
   "source": [
    "Liga2008_09 = sb.matches(competition_id=11 , season_id=41)"
   ]
  },
  {
   "cell_type": "markdown",
   "id": "41a0ee36",
   "metadata": {},
   "source": [
    "Here, you filter by team (in this case, we want all FCBarcelona matches)."
   ]
  },
  {
   "cell_type": "code",
   "execution_count": 5,
   "id": "e04e2704",
   "metadata": {
    "ExecuteTime": {
     "end_time": "2023-08-15T10:31:20.094876Z",
     "start_time": "2023-08-15T10:31:20.080661Z"
    }
   },
   "outputs": [],
   "source": [
    "Barcelona_matches = Liga2008_09[(Liga2008_09['home_team']=='Barcelona')|(Liga2008_09['away_team']=='Barcelona')].sort_values(by='match_date')\n",
    "lista_matchID = Barcelona_matches.match_id.tolist()"
   ]
  },
  {
   "cell_type": "markdown",
   "id": "6881780b",
   "metadata": {},
   "source": [
    "# Events"
   ]
  },
  {
   "cell_type": "markdown",
   "id": "9260ea7b",
   "metadata": {},
   "source": [
    "Finally, you create a df with the whole season match events."
   ]
  },
  {
   "cell_type": "code",
   "execution_count": 6,
   "id": "4fdb84e3",
   "metadata": {
    "ExecuteTime": {
     "end_time": "2023-08-15T10:32:14.105006Z",
     "start_time": "2023-08-15T10:31:46.045207Z"
    }
   },
   "outputs": [],
   "source": [
    "lista_dfs = []\n",
    "\n",
    "for match_id in lista_matchID:\n",
    "    df = sb.events(match_id=match_id) #for each match, we create a df with the event data\n",
    "    lista_dfs.append(df)\n",
    "\n",
    "# Concatenate all df created\n",
    "dataframe_final = pd.concat(lista_dfs, ignore_index=True)"
   ]
  },
  {
   "cell_type": "markdown",
   "id": "3f46c494",
   "metadata": {},
   "source": [
    "# Export to csv"
   ]
  },
  {
   "cell_type": "code",
   "execution_count": 37,
   "id": "6ab7f2f7",
   "metadata": {
    "ExecuteTime": {
     "end_time": "2023-06-29T15:45:15.601630Z",
     "start_time": "2023-06-29T15:45:06.245205Z"
    }
   },
   "outputs": [],
   "source": [
    "dataframe_final.to_csv(r'Barcelona_2008_09_total.csv',encoding='UTF-8', sep=';',index=False,decimal=',')"
   ]
  }
 ],
 "metadata": {
  "hide_input": false,
  "kernelspec": {
   "display_name": "Python 3 (ipykernel)",
   "language": "python",
   "name": "python3"
  },
  "language_info": {
   "codemirror_mode": {
    "name": "ipython",
    "version": 3
   },
   "file_extension": ".py",
   "mimetype": "text/x-python",
   "name": "python",
   "nbconvert_exporter": "python",
   "pygments_lexer": "ipython3",
   "version": "3.10.9"
  },
  "toc": {
   "base_numbering": 1,
   "nav_menu": {},
   "number_sections": true,
   "sideBar": true,
   "skip_h1_title": false,
   "title_cell": "Table of Contents",
   "title_sidebar": "Contents",
   "toc_cell": false,
   "toc_position": {},
   "toc_section_display": true,
   "toc_window_display": false
  },
  "varInspector": {
   "cols": {
    "lenName": 16,
    "lenType": 16,
    "lenVar": 40
   },
   "kernels_config": {
    "python": {
     "delete_cmd_postfix": "",
     "delete_cmd_prefix": "del ",
     "library": "var_list.py",
     "varRefreshCmd": "print(var_dic_list())"
    },
    "r": {
     "delete_cmd_postfix": ") ",
     "delete_cmd_prefix": "rm(",
     "library": "var_list.r",
     "varRefreshCmd": "cat(var_dic_list()) "
    }
   },
   "types_to_exclude": [
    "module",
    "function",
    "builtin_function_or_method",
    "instance",
    "_Feature"
   ],
   "window_display": false
  }
 },
 "nbformat": 4,
 "nbformat_minor": 5
}
